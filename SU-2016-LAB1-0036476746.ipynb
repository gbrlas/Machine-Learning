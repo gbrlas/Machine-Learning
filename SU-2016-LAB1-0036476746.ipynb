{
 "cells": [
  {
   "cell_type": "markdown",
   "metadata": {},
   "source": [
    "Sveučilište u Zagrebu<br>\n",
    "Fakultet elektrotehnike i računarstva\n",
    "\n",
    "## Strojno učenje 2016./2017.\n",
    "\n",
    "<a href=\"http://www.fer.unizg.hr/predmet/su\">http://www.fer.unizg.hr/predmet/su</a>"
   ]
  },
  {
   "cell_type": "markdown",
   "metadata": {},
   "source": [
    "### Laboratorijska vježba 1: Regresija\n",
    "\n",
    "(c) 2015-2016 Jan Šnajder, Domagoj Alagić i Mladen Karan\n",
    "\n",
    "<i>Verzija: 0.2</i> <br/>\n",
    "<i>Zadnji put ažurirano: 11. listopada 2016.</i> "
   ]
  },
  {
   "cell_type": "markdown",
   "metadata": {},
   "source": [
    "Objavljeno: **12. listopada 2016.**<br>\n",
    "Rok za predaju: U terminu vježbe u tjednu od **17. listopada 2016.**"
   ]
  },
  {
   "cell_type": "markdown",
   "metadata": {},
   "source": [
    "### Upute\n",
    "\n",
    "Prva laboratorijska vježba sastoji se od **sedam** zadataka. Kako bi kvalitetnije, ali i na manje zamoran način usvojili gradivo ovog kolegija, potrudili smo se uključiti tri vrste zadataka: **1)** implementacija manjih algoritama, modela ili postupaka; **2)** eksperimenti s raznim modelima te njihovim hiperparametrima, te **3)** primjena modela na (stvarnim) podatcima. Ovim zadatcima pokrivamo dvije paradigme učenja: učenje izgradnjom (engl. *learning by building*) i učenje eksperimentiranjem (engl. *learning by experimenting*).\n",
    "\n",
    "U nastavku slijedite upute navedene u ćelijama s tekstom. Rješavanje vježbe svodi se na **dopunjavanje ove bilježnice**: umetanja ćelije ili više njih **ispod** teksta zadatka, pisanja odgovarajućeg kôda te evaluiranja ćelija. \n",
    "\n",
    "Osigurajte da u potpunosti **razumijete** kôd koji ste napisali. Kod predaje vježbe, morate biti u stanju na zahtjev asistenta (ili demonstratora) preinačiti i ponovno evaluirati Vaš kôd. Nadalje, morate razumjeti teorijske osnove onoga što radite, u okvirima onoga što smo obradili na predavanju. Ispod nekih zadataka možete naći i pitanja koja služe kao smjernice za bolje razumijevanje gradiva (**nemojte pisati** odgovore na pitanja u bilježnicu). Stoga se nemojte ograničiti samo na to da riješite zadatak, nego slobodno eksperimentirajte. To upravo i jest svrha ovih vježbi.\n",
    "\n",
    "Vježbe trebate raditi **samostalno**. Možete se konzultirati s drugima o načelnom načinu rješavanja, ali u konačnici morate sami odraditi vježbu. U protivnome vježba nema smisla."
   ]
  },
  {
   "cell_type": "code",
   "execution_count": 2,
   "metadata": {
    "collapsed": false
   },
   "outputs": [
    {
     "name": "stdout",
     "output_type": "stream",
     "text": [
      "Populating the interactive namespace from numpy and matplotlib\n"
     ]
    }
   ],
   "source": [
    "# Učitaj osnovne biblioteke...\n",
    "import numpy as np\n",
    "import scipy as sp\n",
    "import sklearn\n",
    "from sklearn.preprocessing import PolynomialFeatures\n",
    "import matplotlib.pyplot as plt\n",
    "%pylab inline"
   ]
  },
  {
   "cell_type": "markdown",
   "metadata": {},
   "source": [
    "## Zadatci"
   ]
  },
  {
   "cell_type": "markdown",
   "metadata": {},
   "source": [
    "### 1. Univarijatna regresija"
   ]
  },
  {
   "cell_type": "markdown",
   "metadata": {},
   "source": [
    "Zadan je skup primjera $\\mathcal{D}=\\{(x^{(i)},y^{(i)})\\}_{i=1}^4 = \\{(0,4),(1,1),(2,2),(4,5)\\}$. Primjere predstavite matrixom $\\mathbf{X}$ dimenzija $N\\times n$ (u ovom slučaju $4\\times 1$) i vektorom oznaka $\\textbf{y}$, dimenzija $N\\times 1$ (u ovom slučaju $4\\times 1$), na sljedeći način:\n"
   ]
  },
  {
   "cell_type": "code",
   "execution_count": 3,
   "metadata": {
    "collapsed": false
   },
   "outputs": [],
   "source": [
    "X = np.array([[0],[1],[2],[4]])\n",
    "y = np.array([4,1,2,5])"
   ]
  },
  {
   "cell_type": "markdown",
   "metadata": {},
   "source": [
    "### (a)\n",
    "\n",
    "Proučite funkciju [`PolynomialFeatures`](http://scikit-learn.org/stable/modules/generated/sklearn.preprocessing.PolynomialFeatures.html) iz biblioteke `sklearn` i upotrijebite je za generiranje dizajn-matrice $\\mathbf{\\Phi}$ koja ne koristi preslikavanje u prostor više dimenzije (samo će svakom primjeru biti dodane *dummy* jedinice; $m=n+1$).\n"
   ]
  },
  {
   "cell_type": "code",
   "execution_count": 4,
   "metadata": {
    "collapsed": false
   },
   "outputs": [
    {
     "name": "stdout",
     "output_type": "stream",
     "text": [
      "[[ 1.  0.]\n",
      " [ 1.  1.]\n",
      " [ 1.  2.]\n",
      " [ 1.  4.]]\n"
     ]
    }
   ],
   "source": [
    "poly = sklearn.preprocessing.PolynomialFeatures(1)\n",
    "psi = poly.fit_transform(X)\n",
    "print (psi)"
   ]
  },
  {
   "cell_type": "markdown",
   "metadata": {},
   "source": [
    "### (b)"
   ]
  },
  {
   "cell_type": "markdown",
   "metadata": {},
   "source": [
    "Upoznajte se s modulom [`linalg`](http://docs.scipy.org/doc/numpy/reference/routines.linalg.html). Izračunajte težine $\\mathbf{w}$ modela linearne regresije kao $\\mathbf{w}=(\\mathbf{\\Phi}^\\intercal\\mathbf{\\Phi})^{-1}\\mathbf{\\Phi}^\\intercal\\mathbf{y}$. Zatim se uvjerite da isti rezultat možete dobiti izračunom pseudoinverza $\\mathbf{\\Phi}^+$ dizajn-matrice, tj. $\\mathbf{w}=\\mathbf{\\Phi}^+\\mathbf{y}$, korištenjem funkcije [`pinv`](http://docs.scipy.org/doc/numpy/reference/generated/numpy.linalg.pinv.html)."
   ]
  },
  {
   "cell_type": "code",
   "execution_count": 5,
   "metadata": {
    "collapsed": true
   },
   "outputs": [],
   "source": [
    "from numpy import linalg"
   ]
  },
  {
   "cell_type": "code",
   "execution_count": 6,
   "metadata": {
    "collapsed": false
   },
   "outputs": [
    {
     "name": "stdout",
     "output_type": "stream",
     "text": [
      "[ 2.2         0.45714286]\n",
      "[ 2.2         0.45714286]\n"
     ]
    }
   ],
   "source": [
    "w = dot(dot(inv((dot(transpose(psi), psi))), transpose(psi)), y)\n",
    "w2 = dot(pinv(psi), y)\n",
    "print (w)\n",
    "print (w2)"
   ]
  },
  {
   "cell_type": "markdown",
   "metadata": {},
   "source": [
    "Radi jasnoće, u nastavku je vektor $\\mathbf{x}$ s dodanom *dummy* jedinicom $x_0=1$ označen kao $\\tilde{\\mathbf{x}}$."
   ]
  },
  {
   "cell_type": "markdown",
   "metadata": {},
   "source": [
    "### (c)"
   ]
  },
  {
   "cell_type": "markdown",
   "metadata": {},
   "source": [
    "Prikažite primjere iz $\\mathcal{D}$ i funkciju $h(\\tilde{\\mathbf{x}})=\\mathbf{w}^\\intercal\\tilde{\\mathbf{x}}$. Izračunajte pogrešku učenja prema izrazu $E(h|\\mathcal{D})=\\frac{1}{2}\\sum_{i=1}^N(\\tilde{\\mathbf{x}}^{(i)} - h(\\tilde{\\mathbf{x}}))^2$. Možete koristiti funkciju srednje kvadratne pogreške [`mean_squared_error`]( http://scikit-learn.org/stable/modules/generated/sklearn.metrics.mean_squared_error.html#sklearn.metrics.mean_squared_error) iz modula [`sklearn.metrics`](http://scikit-learn.org/stable/modules/classes.html#module-sklearn.metrics).\n",
    "\n",
    "**Q:** Gore definirana funkcija pogreške $E(h|\\mathcal{D})$ i funkcija srednje kvadratne pogreške nisu posve identične. U čemu je razlika? Koja je \"realnija\"?"
   ]
  },
  {
   "cell_type": "code",
   "execution_count": 7,
   "metadata": {
    "collapsed": false
   },
   "outputs": [
    {
     "name": "stdout",
     "output_type": "stream",
     "text": [
      "[ 2.2         2.65714286  3.11428571  4.02857143]\n",
      "2.04285714286\n"
     ]
    }
   ],
   "source": [
    "from sklearn import metrics\n",
    "\n",
    "D = np.array([[0, 4],[1, 1],[2, 2],[4, 5]])\n",
    "\n",
    "def h(x, w):\n",
    "    return dot(x, transpose(w))\n",
    "\n",
    "def error(x, y, w):\n",
    "    return sklearn.metrics.mean_squared_error(y, h(x, w))\n",
    "\n",
    "\n",
    "print (h(psi, w))\n",
    "print (error(psi, y, w))"
   ]
  },
  {
   "cell_type": "markdown",
   "metadata": {},
   "source": [
    "### (d)"
   ]
  },
  {
   "cell_type": "markdown",
   "metadata": {},
   "source": [
    "Uvjerite se da za primjere iz $\\mathcal{D}$ težine $\\mathbf{w}$ ne možemo naći rješavanjem sustava $\\mathbf{w}=\\mathbf{\\Phi}^{-1}\\mathbf{y}$, već da nam doista treba pseudoinverz.\n",
    "\n",
    "**Q:** Zašto je to slučaj? Bi li se problem mogao riješiti preslikavanjem primjera u višu dimenziju? Ako da, bi li to uvijek funkcioniralo, neovisno o skupu primjera $\\mathcal{D}$? Pokažite na primjeru."
   ]
  },
  {
   "cell_type": "code",
   "execution_count": 8,
   "metadata": {
    "collapsed": false
   },
   "outputs": [
    {
     "name": "stdout",
     "output_type": "stream",
     "text": [
      "[ 4.         -5.91666667  3.375      -0.45833333]\n"
     ]
    }
   ],
   "source": [
    "poly = sklearn.preprocessing.PolynomialFeatures(3)\n",
    "psi2 = poly.fit_transform(X)\n",
    "w3 = dot(inv(psi2), y)\n",
    "print (w3)"
   ]
  },
  {
   "cell_type": "markdown",
   "metadata": {},
   "source": [
    "### (e) "
   ]
  },
  {
   "cell_type": "markdown",
   "metadata": {},
   "source": [
    "Proučite klasu [`LinearRegression`](http://scikit-learn.org/stable/modules/generated/sklearn.linear_model.LinearRegression.html#sklearn.linear_model.LinearRegression) iz modula [`sklearn.linear_model`](http://scikit-learn.org/stable/modules/classes.html#module-sklearn.linear_model). Uvjerite se da su težine koje izračunava ta funkcija (dostupne pomoću atributa `coef_` i `intercept_`) jednake onima koje ste izračunali gore. Izračunajte predikcije modela (metoda `predict`) i uvjerite se da je pogreška učenja identična onoj koju ste ranije izračunali."
   ]
  },
  {
   "cell_type": "code",
   "execution_count": 9,
   "metadata": {
    "collapsed": false
   },
   "outputs": [],
   "source": [
    "from sklearn.linear_model import LinearRegression"
   ]
  },
  {
   "cell_type": "code",
   "execution_count": 10,
   "metadata": {
    "collapsed": false
   },
   "outputs": [
    {
     "name": "stdout",
     "output_type": "stream",
     "text": [
      "[ 2.2         0.45714286]\n",
      "2.04285714286\n"
     ]
    }
   ],
   "source": [
    "regr = LinearRegression(fit_intercept=False)\n",
    "regr.fit(psi, y)\n",
    "coef = regr.coef_\n",
    "\n",
    "print (coef)\n",
    "print (sklearn.metrics.mean_squared_error(y, regr.predict(psi)))"
   ]
  },
  {
   "cell_type": "markdown",
   "metadata": {},
   "source": [
    "### 2. Polinomijalna regresija i utjecaj šuma"
   ]
  },
  {
   "cell_type": "markdown",
   "metadata": {},
   "source": [
    "### (a)\n",
    "\n",
    "Razmotrimo sada regresiju na većem broju primjera. Definirajte funkciju `make_labels(X, f, noise=0)` koja uzima matricu neoznačenih primjera $\\mathbf{X}_{N\\times n}$ te generira vektor njihovih oznaka $\\mathbf{y}_{N\\times 1}$. Oznake se generiraju kao $y^{(i)} = f(x^{(i)})+\\mathcal{N}(0,\\sigma^2)$, gdje je $f:\\mathbb{R}^n\\to\\mathbb{R}$ stvarna funkcija koja je generirala podatke (koja nam je u stvarnosti nepoznata), a $\\sigma$ je standardna devijacija Gaussovog šuma, definirana parametrom `noise`. Za generiranje šuma možete koristiti funkciju [`numpy.random.normal`](http://docs.scipy.org/doc/numpy/reference/generated/numpy.random.normal.html). \n",
    "\n",
    "Generirajte skup za učenje od $N=50$ primjera uniformno distribuiranih u intervalu $[-5,5]$ pomoću funkcije $f(x) = 5 + x -2 x^2 -5 x^3$ uz šum  $\\sigma=200$:"
   ]
  },
  {
   "cell_type": "code",
   "execution_count": 11,
   "metadata": {
    "collapsed": false
   },
   "outputs": [],
   "source": [
    "from numpy.random import normal\n",
    "from numpy.random import uniform"
   ]
  },
  {
   "cell_type": "code",
   "execution_count": 12,
   "metadata": {
    "collapsed": false
   },
   "outputs": [],
   "source": [
    "def make_labels(X, f, noise=0) :\n",
    "    lista = list()\n",
    "    for x in X:\n",
    "        result = f(x) + normal(0, noise**2)\n",
    "        lista.append(result)\n",
    "        \n",
    "    return np.array(lista)\n",
    "\n",
    "def f(x):\n",
    "    return 5 + x - 2*(x**2) -5*(x**3)\n",
    "\n",
    "nums = list()\n",
    "\n",
    "for i in range(0, 50):\n",
    "    nums.append(uniform(-5, 5))\n",
    "    \n",
    "nums = sort(nums)\n",
    "\n",
    "X = np.array(nums[0])\n",
    "for i in range(1, nums.size):\n",
    "    X = numpy.vstack([X, nums[i]])\n",
    "    \n",
    "y = make_labels(X, f, 200)"
   ]
  },
  {
   "cell_type": "markdown",
   "metadata": {},
   "source": [
    "Prikažite taj skup funkcijom [`scatter`](http://matplotlib.org/api/pyplot_api.html#matplotlib.pyplot.scatter)."
   ]
  },
  {
   "cell_type": "code",
   "execution_count": 13,
   "metadata": {
    "collapsed": false
   },
   "outputs": [
    {
     "data": {
      "text/plain": [
       "<matplotlib.collections.PathCollection at 0x1f7d9ed9470>"
      ]
     },
     "execution_count": 13,
     "metadata": {},
     "output_type": "execute_result"
    },
    {
     "data": {
      "image/png": "[encoded data removed]",
      "text/plain": [
       "<matplotlib.figure.Figure at 0x1f7d9b12f60>"
      ]
     },
     "metadata": {},
     "output_type": "display_data"
    }
   ],
   "source": [
    "scatter(X, y)"
   ]
  },
  {
   "cell_type": "markdown",
   "metadata": {},
   "source": [
    "### (b)"
   ]
  },
  {
   "cell_type": "markdown",
   "metadata": {},
   "source": [
    "Trenirajte model polinomijalne regresije stupnja $d=3$. Na istom grafikonu prikažite naučeni model $h(\\mathbf{x})=\\mathbf{w}^\\intercal\\tilde{\\mathbf{x}}$ i primjere za učenje. Izračunajte pogrešku učenja modela."
   ]
  },
  {
   "cell_type": "code",
   "execution_count": 14,
   "metadata": {
    "collapsed": false
   },
   "outputs": [
    {
     "data": {
      "text/plain": [
       "(-6, 6)"
      ]
     },
     "execution_count": 14,
     "metadata": {},
     "output_type": "execute_result"
    },
    {
     "data": {
      "image/png": "[encoded data removed]",
      "text/plain": [
       "<matplotlib.figure.Figure at 0x1f7d9b3cbe0>"
      ]
     },
     "metadata": {},
     "output_type": "display_data"
    }
   ],
   "source": [
    "poly = sklearn.preprocessing.PolynomialFeatures(3)\n",
    "psi = poly.fit_transform(X)\n",
    "\n",
    "w = dot(pinv(psi), y)\n",
    "#print (h(psi, transpose(w)))\n",
    "#print (error(psi, y, transpose(w)))\n",
    "hx = dot(transpose(w), transpose(psi))\n",
    "\n",
    "plt.scatter(X, y)\n",
    "plt.plot(X, hx.T, color='red', linewidth=2.0)\n",
    "plt.grid()\n",
    "axes = plt.gca()\n",
    "axes.set_xlim([-6,6])"
   ]
  },
  {
   "cell_type": "markdown",
   "metadata": {},
   "source": [
    "### 3. Odabir modela"
   ]
  },
  {
   "cell_type": "markdown",
   "metadata": {},
   "source": [
    "### (a)\n",
    "\n",
    "Na skupu podataka iz zadatka 2 trenirajte pet modela linearne regresije $\\mathcal{H}_d$ različite složenosti, gdje je $d$ stupanj polinoma, $d\\in\\{1,3,5,10,20\\}$. Prikažite na istome grafikonu skup za učenje i funkcije $h_d(\\mathbf{x})$ za svih pet modela (preporučujemo koristiti `plot` unutar `for` petlje). Izračunajte pogrešku učenja svakog od modela.\n",
    "\n",
    "**Q:** Koji model ima najmanju pogrešku učenja i zašto?"
   ]
  },
  {
   "cell_type": "code",
   "execution_count": 15,
   "metadata": {
    "collapsed": false
   },
   "outputs": [
    {
     "name": "stdout",
     "output_type": "stream",
     "text": [
      "Error with d=1: 21.2387793889\n",
      "Error with d=3: 21.2133125148\n",
      "Error with d=5: 21.1199267881\n",
      "Error with d=10: 20.8586860891\n",
      "Error with d=20: 20.594276911\n"
     ]
    },
    {
     "data": {
      "image/png": "[encoded data removed]",
      "text/plain": [
       "<matplotlib.figure.Figure at 0x1f7d9b34e80>"
      ]
     },
     "metadata": {},
     "output_type": "display_data"
    }
   ],
   "source": [
    "poly = sklearn.preprocessing.PolynomialFeatures(1)\n",
    "psi1 = poly.fit_transform(X)\n",
    "poly = sklearn.preprocessing.PolynomialFeatures(3)\n",
    "psi2 = poly.fit_transform(X)\n",
    "poly = sklearn.preprocessing.PolynomialFeatures(5)\n",
    "psi3 = poly.fit_transform(X)\n",
    "poly = sklearn.preprocessing.PolynomialFeatures(10)\n",
    "psi4 = poly.fit_transform(X)\n",
    "poly = sklearn.preprocessing.PolynomialFeatures(20)\n",
    "psi5 = poly.fit_transform(X)\n",
    "\n",
    "w1 = dot(pinv(psi1), y)\n",
    "hx1 = dot(transpose(w1), transpose(psi1))\n",
    "w2 = dot(pinv(psi2), y)\n",
    "hx2 = dot(transpose(w2), transpose(psi2))\n",
    "w3 = dot(pinv(psi3), y)\n",
    "hx3 = dot(transpose(w3), transpose(psi3))\n",
    "w4 = dot(pinv(psi4), y)\n",
    "hx4 = dot(transpose(w4), transpose(psi4))\n",
    "w5 = dot(pinv(psi5), y)\n",
    "hx5 = dot(transpose(w5), transpose(psi5))\n",
    "\n",
    "\n",
    "plt.scatter(X, y)\n",
    "plt.plot(X, hx1.T, color='c', linewidth=2.0)\n",
    "plt.plot(X, hx2.T, color='crimson', linewidth=2.0)\n",
    "plt.plot(X, hx3.T, color='chartreuse', linewidth=2.0)\n",
    "plt.plot(X, hx4.T, color='red', linewidth=2.0)\n",
    "plt.plot(X, hx5.T, color='green', linewidth=2.0)\n",
    "plt.grid()\n",
    "axes = plt.gca()\n",
    "axes.set_xlim([-6,6])\n",
    "\n",
    "print (\"Error with d=1: \" + str(log(error(psi1, y, transpose(w1)))))\n",
    "print (\"Error with d=3: \" + str(log(error(psi2, y, transpose(w2)))))\n",
    "print (\"Error with d=5: \" + str(log(error(psi3, y, transpose(w3)))))\n",
    "print (\"Error with d=10: \" + str(log(error(psi4, y, transpose(w4)))))\n",
    "print (\"Error with d=20: \" + str(log(error(psi5, y, transpose(w5)))))\n",
    "    "
   ]
  },
  {
   "cell_type": "markdown",
   "metadata": {},
   "source": [
    "### (b)"
   ]
  },
  {
   "cell_type": "markdown",
   "metadata": {},
   "source": [
    "Razdvojite skup primjera iz zadatka 2 pomoću funkcije [`cross_validation.train_test_split`](http://scikit-learn.org/stable/modules/generated/sklearn.cross_validation.train_test_split.html#sklearn.cross_validation.train_test_split) na skup za učenja i skup za ispitivanje u omjeru 1:1. Prikažite na jednom grafikonu pogrešku učenja i ispitnu pogrešku za modele polinomijalne regresije $\\mathcal{H}_d$, sa stupnjem polinoma $d$ u rasponu $d\\in\\{1,20\\}$. Radi preciznosti, funkcije $h(\\mathbf{x})$ iscrtajte na cijelom skupu primjera (ali pogrešku generalizacije računajte, naravno, samo na ispitnome skupu). Budući da kvadratna pogreška brzo raste za veće stupnjeve polinoma, umjesto da iscrtate izravno iznose pogrešaka, iscrtajte njihove logaritme.\n",
    "\n",
    "**NB:** Podjela na skupa za učenje i skup za ispitivanje mora za svih pet modela biti identična.\n",
    "\n",
    "**Q:** Je li rezultat u skladu s očekivanjima? Koji biste model odabrali i zašto?\n",
    "\n",
    "**Q:** Pokrenite iscrtavanje više puta. U čemu je problem? Bi li problem bio jednako izražen kad bismo imali više primjera? Zašto?"
   ]
  },
  {
   "cell_type": "code",
   "execution_count": 16,
   "metadata": {
    "collapsed": false
   },
   "outputs": [],
   "source": [
    "from sklearn import cross_validation"
   ]
  },
  {
   "cell_type": "code",
   "execution_count": 17,
   "metadata": {
    "collapsed": false
   },
   "outputs": [
    {
     "data": {
      "image/png": "[encoded data removed]",
      "text/plain": [
       "<matplotlib.figure.Figure at 0x1f7daf6ff98>"
      ]
     },
     "metadata": {},
     "output_type": "display_data"
    }
   ],
   "source": [
    "X_train, X_test, y_train, y_test = cross_validation.train_test_split(X, y, test_size=0.5, random_state=42)\n",
    "\n",
    "plt.grid()\n",
    "axes = plt.gca()\n",
    "axes.set_xlim([0,21])\n",
    "    \n",
    "for i in range (1, 21):\n",
    "    poly = sklearn.preprocessing.PolynomialFeatures(i)\n",
    "    psin = poly.fit_transform(X_train)\n",
    "    wn = dot(pinv(psin), y_train)\n",
    "    hxn = dot(transpose(wn), transpose(psin))\n",
    "    \n",
    "    err_train = log(error(psin, y_train, transpose(wn)))\n",
    "    \n",
    "    psin = poly.fit_transform(X_test)\n",
    "    err_test = log(error(psin, y_test, transpose(wn)))\n",
    "    \n",
    "    plt.scatter(i, err_train)\n",
    "    plt.scatter(i, err_test, color='red')   \n",
    "    "
   ]
  },
  {
   "cell_type": "markdown",
   "metadata": {},
   "source": [
    "### (c)"
   ]
  },
  {
   "cell_type": "markdown",
   "metadata": {},
   "source": [
    "Točnost modela ovisi o (1) njegovoj složenosti (stupanj $d$ polinoma), (2) broju primjera $N$, i (3) količini šuma. Kako biste to analizirali, nacrtajte grafikone pogrešaka kao u 3b, ali za sve kombinacija broja primjera $N\\in\\{100,200,1000\\}$ i količine šuma $\\sigma\\in\\{100,200,500\\}$ (ukupno 9 grafikona). Upotrijebite funkciju [`subplots`](http://matplotlib.org/examples/pylab_examples/subplots_demo.html) kako biste pregledno posložili grafikone u tablicu $3\\times 3$. Podatci se generiraju na isti način kao u zadatku 2.\n",
    "\n",
    "**NB:** Pobrinite se da svi grafikoni budu generirani nad usporedivim skupovima podataka, na sljedeći način. Generirajte najprije svih 1000 primjera, podijelite ih na skupove za učenje i skupove za ispitivanje (dva skupa od po 500 primjera). Zatim i od skupa za učenje i od skupa za ispitivanje načinite tri različite verzije, svaka s drugačijom količinom šuma (ukupno 2x3=6 verzija podataka). Kako bi simulirali veličinu skupa podataka, od tih dobivenih 6 skupova podataka uzorkujte trećinu, dvije trećine i sve podatke. Time ste dobili 18 skupova podataka -- skup za učenje i za testiranje za svaki od devet grafova."
   ]
  },
  {
   "cell_type": "markdown",
   "metadata": {},
   "source": [
    "***Q:*** Jesu li rezultati očekivani? Obrazložite."
   ]
  },
  {
   "cell_type": "code",
   "execution_count": 18,
   "metadata": {
    "collapsed": false
   },
   "outputs": [
    {
     "data": {
      "image/png": "[encoded data removed]",
      "text/plain": [
       "<matplotlib.figure.Figure at 0x1f7db0e5b00>"
      ]
     },
     "metadata": {},
     "output_type": "display_data"
    }
   ],
   "source": [
    "sigme = [100, 200, 500]\n",
    "#prva 3 - N = 100 \n",
    "nums = list()\n",
    "for i in range(0, 101):\n",
    "    nums.append(uniform(-5, 5))\n",
    "    \n",
    "nums = sort(nums)\n",
    "\n",
    "X = np.array(nums[0])\n",
    "for i in range(1, nums.size):\n",
    "    X = numpy.vstack([X, nums[i]])\n",
    "\n",
    "z, ((ax1, ax2, ax3), (ax4, ax5, ax6), (ax7, ax8, ax9)) = plt.subplots(3, 3, sharex='col', sharey='row')\n",
    "\n",
    "for sigma in sigme:\n",
    "    y = make_labels(X, f, sigma)\n",
    "    X_train, X_test, y_train, y_test = cross_validation.train_test_split(X, y, test_size=0.5, random_state=42)\n",
    "    \n",
    "    for i in range (1, 21):\n",
    "        poly = sklearn.preprocessing.PolynomialFeatures(i)\n",
    "        psin = poly.fit_transform(X_train)\n",
    "        wn = dot(pinv(psin), y_train)\n",
    "        hxn = dot(transpose(wn), transpose(psin))\n",
    "\n",
    "        err_train = log(error(psin, y_train, transpose(wn)))\n",
    "\n",
    "        psin = poly.fit_transform(X_test)\n",
    "        err_test = log(error(psin, y_test, transpose(wn)))\n",
    "\n",
    "        if (sigma == 100):\n",
    "            ax1.scatter(i, err_train)\n",
    "            ax1.scatter(i, err_test, color='red') \n",
    "        elif (sigma == 200):\n",
    "            ax2.scatter(i, err_train)\n",
    "            ax2.scatter(i, err_test, color='red')\n",
    "        else:\n",
    "            ax3.scatter(i, err_train)\n",
    "            ax3.scatter(i, err_test, color='red') \n",
    "\n",
    "\n",
    "#druga 3 - N = 200 \n",
    "nums = list()\n",
    "for i in range(0, 201):\n",
    "    nums.append(uniform(-5, 5))\n",
    "    \n",
    "nums = sort(nums)\n",
    "\n",
    "X = np.array(nums[0])\n",
    "for i in range(1, nums.size):\n",
    "    X = numpy.vstack([X, nums[i]])\n",
    "\n",
    "for sigma in sigme:\n",
    "    y = make_labels(X, f, sigma)\n",
    "    X_train, X_test, y_train, y_test = cross_validation.train_test_split(X, y, test_size=0.5, random_state=42)\n",
    "    \n",
    "    for i in range (1, 21):\n",
    "        poly = sklearn.preprocessing.PolynomialFeatures(i)\n",
    "        psin = poly.fit_transform(X_train)\n",
    "        wn = dot(pinv(psin), y_train)\n",
    "        hxn = dot(transpose(wn), transpose(psin))\n",
    "\n",
    "        err_train = log(error(psin, y_train, transpose(wn)))\n",
    "\n",
    "        psin = poly.fit_transform(X_test)\n",
    "        err_test = log(error(psin, y_test, transpose(wn)))\n",
    "\n",
    "        if (sigma == 100):\n",
    "            ax4.scatter(i, err_train)\n",
    "            ax4.scatter(i, err_test, color='red') \n",
    "        elif (sigma == 200):\n",
    "            ax5.scatter(i, err_train)\n",
    "            ax5.scatter(i, err_test, color='red')\n",
    "        else:\n",
    "            ax6.scatter(i, err_train)\n",
    "            ax6.scatter(i, err_test, color='red') \n",
    "            \n",
    "#zadnja 3 - N = 1000\n",
    "nums = list()\n",
    "for i in range(0, 1001):\n",
    "    nums.append(uniform(-5, 5))\n",
    "    \n",
    "nums = sort(nums)\n",
    "\n",
    "X = np.array(nums[0])\n",
    "for i in range(1, nums.size):\n",
    "    X = numpy.vstack([X, nums[i]])\n",
    "\n",
    "for sigma in sigme:\n",
    "    y = make_labels(X, f, sigma)\n",
    "    X_train, X_test, y_train, y_test = cross_validation.train_test_split(X, y, test_size=0.5, random_state=42)\n",
    "    \n",
    "    for i in range (1, 21):\n",
    "        poly = sklearn.preprocessing.PolynomialFeatures(i)\n",
    "        psin = poly.fit_transform(X_train)\n",
    "        wn = dot(pinv(psin), y_train)\n",
    "        hxn = dot(transpose(wn), transpose(psin))\n",
    "\n",
    "        err_train = log(error(psin, y_train, transpose(wn)))\n",
    "\n",
    "        psin = poly.fit_transform(X_test)\n",
    "        err_test = log(error(psin, y_test, transpose(wn)))\n",
    "\n",
    "        if (sigma == 100):\n",
    "            ax7.scatter(i, err_train)\n",
    "            ax7.scatter(i, err_test, color='red') \n",
    "        elif (sigma == 200):\n",
    "            ax8.scatter(i, err_train)\n",
    "            ax8.scatter(i, err_test, color='red')\n",
    "        else:\n",
    "            ax9.scatter(i, err_train)\n",
    "            ax9.scatter(i, err_test, color='red') "
   ]
  },
  {
   "cell_type": "markdown",
   "metadata": {},
   "source": [
    "### 4. Regularizirana regresija"
   ]
  },
  {
   "cell_type": "markdown",
   "metadata": {},
   "source": [
    "### (a)\n",
    "\n",
    "U gornjim eksperimentima nismo koristili **regularizaciju**. Vratimo se najprije na primjer iz zadatka 1. Na primjerima iz tog zadatka izračunajte težine $\\mathbf{w}$ za polinomijalni regresijski model stupnja $d=3$ uz L2-regularizaciju (tzv. *ridge regression*), prema izrazu $\\mathbf{w}=(\\mathbf{\\Phi}^\\intercal\\mathbf{\\Phi}+\\lambda\\mathbf{I})^{-1}\\mathbf{\\Phi}^\\intercal\\mathbf{y}$. Napravite izračun težina za regularizacijske faktore $\\lambda=0$, $\\lambda=1$ i $\\lambda=10$ te usporedite dobivene težine.\n",
    "\n",
    "**Q:** Kojih je dimenzija matrica koju treba invertirati?\n",
    "\n",
    "**Q:** Po čemu se razlikuju dobivene težine i je li ta razlika očekivana? Obrazložite."
   ]
  },
  {
   "cell_type": "code",
   "execution_count": 19,
   "metadata": {
    "collapsed": false
   },
   "outputs": [
    {
     "name": "stdout",
     "output_type": "stream",
     "text": [
      "Weights with lambda = 0: [ 4.         -5.91666667  3.375      -0.45833333]\n",
      "Weights with lambda = 1: [ 1.79567372 -0.24729075 -0.0175289   0.07014758]\n",
      "Weights with lambda = 10: [ 0.43312265  0.11060671  0.13827839  0.03093411]\n"
     ]
    }
   ],
   "source": [
    "X = np.array([[0],[1],[2],[4]])\n",
    "y = np.array([4,1,2,5])\n",
    "\n",
    "poly = sklearn.preprocessing.PolynomialFeatures(3)\n",
    "psi = poly.fit_transform(X)\n",
    "\n",
    "lmb = 0\n",
    "w0 = dot(dot(inv(np.add((dot(transpose(psi), psi)), np.multiply(lmb, np.identity(psi.shape[0])))), transpose(psi)), y)\n",
    "\n",
    "lmb = 1\n",
    "w1 = dot(dot(inv(np.add((dot(transpose(psi), psi)), np.multiply(lmb, np.identity(psi.shape[0])))), transpose(psi)), y)\n",
    "\n",
    "lmb = 10\n",
    "w10 = dot(dot(inv(np.add((dot(transpose(psi), psi)), np.multiply(lmb, np.identity(psi.shape[0])))), transpose(psi)), y)\n",
    "\n",
    "print (\"Weights with lambda = 0: \" + str(w0))\n",
    "print (\"Weights with lambda = 1: \" + str(w1))\n",
    "print (\"Weights with lambda = 10: \" + str(w10))\n",
    "\n",
    "\n"
   ]
  },
  {
   "cell_type": "markdown",
   "metadata": {},
   "source": [
    "### (b)"
   ]
  },
  {
   "cell_type": "markdown",
   "metadata": {},
   "source": [
    "Proučite klasu [`Ridge`](http://scikit-learn.org/stable/modules/generated/sklearn.linear_model.Ridge.html#sklearn.linear_model.Ridge) iz modula [`sklearn.linear_model`](http://scikit-learn.org/stable/modules/classes.html#module-sklearn.linear_model), koja implementira L2-regularizirani regresijski model. Parametar $\\alpha$ odgovara parametru $\\lambda$. Primijenite model na istim primjerima kao u prethodnom zadatku i ispišite težine $\\mathbf{w}$ (atributi `coef_` i `intercept_`).\n",
    "\n",
    "**Q:** Jesu li težine identične onima iz zadatka 4a? Ako nisu, objasnite zašto je to tako i kako biste to popravili."
   ]
  },
  {
   "cell_type": "code",
   "execution_count": 20,
   "metadata": {
    "collapsed": false
   },
   "outputs": [],
   "source": [
    "from sklearn.linear_model import Ridge"
   ]
  },
  {
   "cell_type": "code",
   "execution_count": 21,
   "metadata": {
    "collapsed": false
   },
   "outputs": [
    {
     "name": "stdout",
     "output_type": "stream",
     "text": [
      "Weights with lambda = 0: [ 0.         -5.91666667  3.375      -0.45833333]\n",
      "Weights with lambda = 1: [ 0.         -0.69079365 -0.2831746   0.1445805 ]\n",
      "Weights with lambda = 10: [ 0.         -0.15897295 -0.13423067  0.0815601 ]\n"
     ]
    }
   ],
   "source": [
    "clf = Ridge(alpha=0.0)\n",
    "clf.fit(psi, y) \n",
    "print (\"Weights with lambda = 0: \" + str(clf.coef_))\n",
    "\n",
    "clf = Ridge(alpha=1.0)\n",
    "clf.fit(psi, y) \n",
    "print (\"Weights with lambda = 1: \" + str(clf.coef_))\n",
    "\n",
    "clf = Ridge(alpha=10.0)\n",
    "clf.fit(psi, y) \n",
    "print (\"Weights with lambda = 10: \" + str(clf.coef_))"
   ]
  },
  {
   "cell_type": "markdown",
   "metadata": {},
   "source": [
    "### 5. Regularizirana polinomijalna regresija"
   ]
  },
  {
   "cell_type": "markdown",
   "metadata": {},
   "source": [
    "### (a)\n",
    "\n",
    "Vratimo se na slučaj $N=50$ slučajno generiranih primjera iz zadatka 2. Trenirajte modele polinomijalne regresije $\\mathcal{H}_{\\lambda,d}$ za $\\lambda\\in\\{0,100\\}$ i $d\\in\\{2,10\\}$ (ukupno četiri modela). Skicirajte pripadne funkcije $h(\\mathbf{x})$ i primjere (na jednom grafikonu; preporučujemo koristiti `plot` unutar `for` petlje).\n",
    "\n",
    "**Q:** Jesu li rezultati očekivani? Obrazložite."
   ]
  },
  {
   "cell_type": "code",
   "execution_count": 22,
   "metadata": {
    "collapsed": false
   },
   "outputs": [
    {
     "name": "stdout",
     "output_type": "stream",
     "text": [
      "Weights with lambda=10 and d=2: [[    0.          -896.32137875 -1549.01573214]]\n",
      "Weights with lambda=20 and d=4: [[    0.          3730.67468442 -3305.90119387  -334.80452933\n",
      "     94.32421669]]\n",
      "Weights with lambda=30 and d=6: [[    0.         -1586.22683763  -217.0383394    936.2681369   -362.90353265\n",
      "    -51.30785949    15.20849632]]\n",
      "Weights with lambda=40 and d=8: [[   0.         -310.17451582 -403.91721202 -103.28802837 -206.70843568\n",
      "    74.43634118   -3.09102056   -3.78781016    0.53687771]]\n"
     ]
    },
    {
     "data": {
      "image/png": "[encoded data removed]",
      "text/plain": [
       "<matplotlib.figure.Figure at 0x1f7d9f3e630>"
      ]
     },
     "metadata": {},
     "output_type": "display_data"
    }
   ],
   "source": [
    "nums = list()\n",
    "\n",
    "for i in range(0, 50):\n",
    "    nums.append(uniform(-5, 5))\n",
    "    \n",
    "nums = sort(nums)\n",
    "\n",
    "X = np.array(nums[0])\n",
    "for i in range(1, nums.size):\n",
    "    X = numpy.vstack([X, nums[i]])\n",
    "\n",
    "y = make_labels(X, f, 200)\n",
    "\n",
    "poly = sklearn.preprocessing.PolynomialFeatures(2)\n",
    "psi = poly.fit_transform(X)\n",
    "clf = Ridge(alpha=10.0)\n",
    "clf.fit(psi, y) \n",
    "print (\"Weights with lambda=10 and d=2: \" + str(clf.coef_))\n",
    "hx1 = dot(clf.coef_, transpose(psi))\n",
    "\n",
    "poly = sklearn.preprocessing.PolynomialFeatures(4)\n",
    "psi = poly.fit_transform(X)\n",
    "clf = Ridge(alpha=20.0)\n",
    "clf.fit(psi, y) \n",
    "print (\"Weights with lambda=20 and d=4: \" + str(clf.coef_))\n",
    "hx2 = dot(clf.coef_, transpose(psi))\n",
    "\n",
    "poly = sklearn.preprocessing.PolynomialFeatures(6)\n",
    "psi = poly.fit_transform(X)\n",
    "clf = Ridge(alpha=30.0)\n",
    "clf.fit(psi, y) \n",
    "print (\"Weights with lambda=30 and d=6: \" + str(clf.coef_))\n",
    "hx3 = dot(clf.coef_, transpose(psi))\n",
    "\n",
    "poly = sklearn.preprocessing.PolynomialFeatures(8)\n",
    "psi = poly.fit_transform(X)\n",
    "clf = Ridge(alpha=40.0)\n",
    "clf.fit(psi, y) \n",
    "print (\"Weights with lambda=40 and d=8: \" + str(clf.coef_))\n",
    "hx4 = dot(clf.coef_, transpose(psi))\n",
    "\n",
    "plt.scatter(X, y)\n",
    "plt.plot(X, hx1.T, color='c', linewidth=2.0)\n",
    "plt.plot(X, hx2.T, color='crimson', linewidth=2.0)\n",
    "plt.plot(X, hx3.T, color='chartreuse', linewidth=2.0)\n",
    "plt.plot(X, hx4.T, color='red', linewidth=2.0)\n",
    "plt.grid()"
   ]
  },
  {
   "cell_type": "markdown",
   "metadata": {},
   "source": [
    "### (b)\n",
    "\n",
    "Kao u zadataku 3b, razdvojite primjere na skup za učenje i skup za ispitivanje u omjeru 1:1. Prikažite krivulje logaritama pogreške učenja i ispitne pogreške u ovisnosti za model $\\mathcal{H}_{d=20,\\lambda}$, podešavajući faktor regularizacije $\\lambda$ u rasponu $\\lambda\\in\\{0,1,\\dots,50\\}$.\n",
    "\n",
    "**Q:** Kojoj strani na grafikonu odgovara područje prenaučenosti a kojoj podnaučenosti. Zašto?\n",
    "\n",
    "**Q:** Koju biste vrijednosti za $\\lambda$ izabrali na temelju ovih grafikona i zašto?\n"
   ]
  },
  {
   "cell_type": "code",
   "execution_count": 23,
   "metadata": {
    "collapsed": false
   },
   "outputs": [
    {
     "data": {
      "image/png": "[encoded data removed]",
      "text/plain": [
       "<matplotlib.figure.Figure at 0x1f7d9f455c0>"
      ]
     },
     "metadata": {},
     "output_type": "display_data"
    }
   ],
   "source": [
    "X_train, X_test, y_train, y_test = cross_validation.train_test_split(X, y, test_size=0.5, random_state=42)\n",
    "\n",
    "plt.grid()\n",
    "axes = plt.gca()\n",
    "axes.set_xlim([0,51])\n",
    "\n",
    "for i in range(0, 51):\n",
    "    poly = sklearn.preprocessing.PolynomialFeatures(20)\n",
    "    psin = poly.fit_transform(X_train)\n",
    "    clf = Ridge(alpha=i)\n",
    "    clf.fit(psin, y_train) \n",
    "    wn = clf.coef_\n",
    "    hxn = dot(wn, transpose(psin))\n",
    "    \n",
    "    err_train = log(error(psin, y_train, wn))\n",
    "    \n",
    "    psin = poly.fit_transform(X_test)\n",
    "    err_test = log(error(psin, y_test, wn))\n",
    "    \n",
    "    plt.scatter(i, err_train)\n",
    "    plt.scatter(i, err_test, color='red')\n",
    "    \n",
    "    "
   ]
  },
  {
   "cell_type": "markdown",
   "metadata": {},
   "source": [
    "### 6. L1-regularizacija i L2-regularizacija"
   ]
  },
  {
   "cell_type": "markdown",
   "metadata": {},
   "source": [
    "Svrha regularizacije jest potiskivanje težina modela $\\mathbf{w}$ prema nuli, kako bi model bio što jednostavniji. Složenost modela može se okarakterizirati normom pripadnog vektora težina $\\mathbf{w}$, i to tipično L2-normom ili L1-normom. Za jednom trenirani model možemo izračunati i broj ne-nul značajki, ili L0-normu, pomoću sljedeće funkcije:"
   ]
  },
  {
   "cell_type": "code",
   "execution_count": 24,
   "metadata": {
    "collapsed": false
   },
   "outputs": [],
   "source": [
    "def nonzeroes(coefs, tol=1e-6): \n",
    "    w0 = 0\n",
    "    for i in range (1, len(coefs[0])):\n",
    "        if (np.abs(coefs[0][i]) >= tol):\n",
    "            w0 += 1\n",
    "    \n",
    "    return w0\n",
    "\n",
    "def l1_norm(coefs):\n",
    "    w1 = 0\n",
    "    for i in range (1, len(coefs[0])):\n",
    "        w1 += np.abs(coefs[0][i])\n",
    "    return w1\n",
    "\n",
    "def l2_norm(coefs):\n",
    "    w2 = 0\n",
    "    for i in range (1, len(coefs[0])):\n",
    "        w2 += np.abs((coefs[0][i])**2)\n",
    "        \n",
    "    return np.sqrt(w2)\n",
    "\n",
    "\n",
    "def nonzeroes2(coefs, tol=1e-6): \n",
    "    w0 = 0\n",
    "    for i in range (1, len(coefs)):\n",
    "        if (np.abs(coefs[i]) >= tol):\n",
    "            w0 += 1\n",
    "    \n",
    "    return w0\n",
    "\n",
    "def l1_norm2(coefs):\n",
    "    w1 = 0\n",
    "    for i in range (1, len(coefs)):\n",
    "        w1 += np.abs(coefs[i])\n",
    "    return w1\n",
    "\n",
    "def l2_norm2(coefs):\n",
    "    w2 = 0\n",
    "    for i in range (1, len(coefs)):\n",
    "        w2 += np.abs((coefs[i])**2)\n",
    "        \n",
    "    return np.sqrt(w2)"
   ]
  },
  {
   "cell_type": "markdown",
   "metadata": {},
   "source": [
    "### (a)\n",
    "\n",
    "Za ovaj zadatak upotrijebite skup za učenje i skup za testiranje iz zadatka 3b. Trenirajte modele **L2-regularizirane** polinomijalne regresije stupnja $d=20$, mijenjajući hiperparametar $\\lambda$ u rasponu $\\{1,2,\\dots,100\\}$. Za svaki od treniranih modela izračunajte L{0,1,2}-norme vektora težina $\\mathbf{w}$ te ih prikažite kao funkciju od $\\lambda$.\n",
    "\n",
    "**Q:** Objasnite oblik obiju krivulja. Hoće li krivulja za $\\|\\mathbf{w}\\|_2$ doseći nulu? Zašto? Je li to problem? Zašto?\n",
    "\n",
    "**Q:** Za $\\lambda=100$, koliki je postotak težina modela jednak nuli, odnosno koliko je model rijedak?"
   ]
  },
  {
   "cell_type": "code",
   "execution_count": 25,
   "metadata": {
    "collapsed": false
   },
   "outputs": [
    {
     "data": {
      "text/plain": [
       "[<matplotlib.lines.Line2D at 0x1f7db0a5208>]"
      ]
     },
     "execution_count": 25,
     "metadata": {},
     "output_type": "execute_result"
    },
    {
     "data": {
      "image/png": "[encoded data removed]",
      "text/plain": [
       "<matplotlib.figure.Figure at 0x1f7dba5eef0>"
      ]
     },
     "metadata": {},
     "output_type": "display_data"
    }
   ],
   "source": [
    "X_train, X_test, y_train, y_test = cross_validation.train_test_split(X, y, test_size=0.5, random_state=42)\n",
    "\n",
    "plt.grid()\n",
    "axes = plt.gca()\n",
    "axes.set_xlim([0,101])\n",
    "\n",
    "l0 = list()\n",
    "l1 = list()\n",
    "l2 = list()\n",
    "\n",
    "poly = sklearn.preprocessing.PolynomialFeatures(20)\n",
    "psi = poly.fit_transform(X)\n",
    "\n",
    "for i in range(1, 101):\n",
    "    clf = Ridge(alpha=i)\n",
    "    clf.fit(psi, y) \n",
    "    wn = clf.coef_\n",
    "    \n",
    "    l0.append(nonzeroes(wn))\n",
    "    l1.append(l1_norm(wn))\n",
    "    l2.append(l2_norm(wn))\n",
    "    \n",
    "c = np.array([x for x in range(1, 101)])\n",
    "plt.plot(c, l0, color='chartreuse', linewidth=2.0)\n",
    "plt.plot(c, l1, color='red', linewidth=2.0)\n",
    "plt.plot(c, l2, color='blue', linewidth=2.0)\n",
    "\n",
    "\n"
   ]
  },
  {
   "cell_type": "markdown",
   "metadata": {},
   "source": [
    "### (b)"
   ]
  },
  {
   "cell_type": "markdown",
   "metadata": {},
   "source": [
    "Glavna prednost L1-regularizirane regresije (ili *LASSO regression*) nad L2-regulariziranom regresijom jest u tome što L1-regularizirana regresija rezultira **rijetkim modelima** (engl. *sparse models*), odnosno modelima kod kojih su mnoge težine pritegnute na nulu. Pokažite da je to doista tako, ponovivši gornji eksperiment s **L1-regulariziranom** regresijom, implementiranom u klasi  [`Lasso`](http://scikit-learn.org/stable/modules/generated/sklearn.linear_model.Lasso.html) u modulu [`sklearn.linear_model`](http://scikit-learn.org/stable/modules/classes.html#module-sklearn.linear_model)."
   ]
  },
  {
   "cell_type": "code",
   "execution_count": 26,
   "metadata": {
    "collapsed": false
   },
   "outputs": [
    {
     "name": "stderr",
     "output_type": "stream",
     "text": [
      "C:\\Users\\đuro\\Anaconda3\\lib\\site-packages\\sklearn\\linear_model\\coordinate_descent.py:466: ConvergenceWarning: Objective did not converge. You might want to increase the number of iterations\n",
      "  ConvergenceWarning)\n"
     ]
    },
    {
     "data": {
      "text/plain": [
       "[<matplotlib.lines.Line2D at 0x1f7daf20160>]"
      ]
     },
     "execution_count": 26,
     "metadata": {},
     "output_type": "execute_result"
    },
    {
     "data": {
      "image/png": "[encoded data removed]",
      "text/plain": [
       "<matplotlib.figure.Figure at 0x1f7dbad6198>"
      ]
     },
     "metadata": {},
     "output_type": "display_data"
    }
   ],
   "source": [
    "from sklearn.linear_model import Lasso\n",
    "\n",
    "X_train, X_test, y_train, y_test = cross_validation.train_test_split(X, y, test_size=0.5, random_state=42)\n",
    "\n",
    "plt.grid()\n",
    "axes = plt.gca()\n",
    "axes.set_xlim([0,101])\n",
    "\n",
    "l0 = list()\n",
    "l1 = list()\n",
    "l2 = list()\n",
    "\n",
    "poly = sklearn.preprocessing.PolynomialFeatures(20)\n",
    "psi = poly.fit_transform(X)\n",
    "\n",
    "for i in range(1, 101):\n",
    "    clf = Lasso(alpha=i)\n",
    "    clf.fit(psi, y) \n",
    "    wn = clf.coef_\n",
    "    \n",
    "    l0.append(nonzeroes2(wn))\n",
    "    l1.append(l1_norm2(wn))\n",
    "    l2.append(l2_norm2(wn))\n",
    "    \n",
    "c = np.array([x for x in range(1, 101)])\n",
    "plt.plot(c, l0, color='chartreuse', linewidth=2.0)\n",
    "plt.plot(c, l1, color='red', linewidth=2.0)\n",
    "plt.plot(c, l2, color='blue', linewidth=2.0)"
   ]
  },
  {
   "cell_type": "markdown",
   "metadata": {},
   "source": [
    "### 7. Predviđanje cijena nekretnina u Bostonu"
   ]
  },
  {
   "cell_type": "markdown",
   "metadata": {},
   "source": [
    "Do sada smo razmatrali isključivo univarijatnu regresiju, tj. imali smo samo jednu značajku ($n=1$). U većini stvarnih problema baratamo s većim brojem značajki. Razmotrimo sada jedan nešto realniji problem, kod kojega postoji više značajki, pa je potrebno napraviti multivarijatnu regresiju.\n",
    "\n",
    "Učitajte skup podataka *Boston House Prices*:"
   ]
  },
  {
   "cell_type": "code",
   "execution_count": 27,
   "metadata": {
    "collapsed": false
   },
   "outputs": [
    {
     "name": "stdout",
     "output_type": "stream",
     "text": [
      "(506, 13)\n",
      "(506,)\n"
     ]
    }
   ],
   "source": [
    "from sklearn.datasets import load_boston\n",
    "boston = load_boston()\n",
    "print (boston.data.shape)\n",
    "print (boston.target.shape)"
   ]
  },
  {
   "cell_type": "markdown",
   "metadata": {},
   "source": [
    "Skup sadrži 506 primjera sa 13 numeričkih značajki. Opis skupa možete dobiti na sljedeći način:"
   ]
  },
  {
   "cell_type": "code",
   "execution_count": 28,
   "metadata": {
    "collapsed": false
   },
   "outputs": [
    {
     "name": "stdout",
     "output_type": "stream",
     "text": [
      "Boston House Prices dataset\n",
      "\n",
      "Notes\n",
      "------\n",
      "Data Set Characteristics:  \n",
      "\n",
      "    :Number of Instances: 506 \n",
      "\n",
      "    :Number of Attributes: 13 numeric/categorical predictive\n",
      "    \n",
      "    :Median Value (attribute 14) is usually the target\n",
      "\n",
      "    :Attribute Information (in order):\n",
      "        - CRIM     per capita crime rate by town\n",
      "        - ZN       proportion of residential land zoned for lots over 25,000 sq.ft.\n",
      "        - INDUS    proportion of non-retail business acres per town\n",
      "        - CHAS     Charles River dummy variable (= 1 if tract bounds river; 0 otherwise)\n",
      "        - NOX      nitric oxides concentration (parts per 10 million)\n",
      "        - RM       average number of rooms per dwelling\n",
      "        - AGE      proportion of owner-occupied units built prior to 1940\n",
      "        - DIS      weighted distances to five Boston employment centres\n",
      "        - RAD      index of accessibility to radial highways\n",
      "        - TAX      full-value property-tax rate per $10,000\n",
      "        - PTRATIO  pupil-teacher ratio by town\n",
      "        - B        1000(Bk - 0.63)^2 where Bk is the proportion of blacks by town\n",
      "        - LSTAT    % lower status of the population\n",
      "        - MEDV     Median value of owner-occupied homes in $1000's\n",
      "\n",
      "    :Missing Attribute Values: None\n",
      "\n",
      "    :Creator: Harrison, D. and Rubinfeld, D.L.\n",
      "\n",
      "This is a copy of UCI ML housing dataset.\n",
      "http://archive.ics.uci.edu/ml/datasets/Housing\n",
      "\n",
      "\n",
      "This dataset was taken from the StatLib library which is maintained at Carnegie Mellon University.\n",
      "\n",
      "The Boston house-price data of Harrison, D. and Rubinfeld, D.L. 'Hedonic\n",
      "prices and the demand for clean air', J. Environ. Economics & Management,\n",
      "vol.5, 81-102, 1978.   Used in Belsley, Kuh & Welsch, 'Regression diagnostics\n",
      "...', Wiley, 1980.   N.B. Various transformations are used in the table on\n",
      "pages 244-261 of the latter.\n",
      "\n",
      "The Boston house-price data has been used in many machine learning papers that address regression\n",
      "problems.   \n",
      "     \n",
      "**References**\n",
      "\n",
      "   - Belsley, Kuh & Welsch, 'Regression diagnostics: Identifying Influential Data and Sources of Collinearity', Wiley, 1980. 244-261.\n",
      "   - Quinlan,R. (1993). Combining Instance-Based and Model-Based Learning. In Proceedings on the Tenth International Conference of Machine Learning, 236-243, University of Massachusetts, Amherst. Morgan Kaufmann.\n",
      "   - many more! (see http://archive.ics.uci.edu/ml/datasets/Housing)\n",
      "\n"
     ]
    }
   ],
   "source": [
    "print (boston.DESCR)"
   ]
  },
  {
   "cell_type": "markdown",
   "metadata": {},
   "source": [
    "### (a)"
   ]
  },
  {
   "cell_type": "markdown",
   "metadata": {},
   "source": [
    "Vaš je zadatak da izgradite regresijski model za predviđanje cijene nekretnine (`y=boston.target`) na temelju 13 raspoloživih značajki za svaku nekretninu (`X=boston.data`). Cilj je pronaći najbolji mogući linearni model regresije na ovom skupu podataka i provjeriti njegovu točnost u smislu pogreške kvadratnog odstupanja ([`mean_squared_error`]( http://scikit-learn.org/stable/modules/generated/sklearn.metrics.mean_squared_error.html#sklearn.metrics.mean_squared_error)). \n",
    "\n",
    "Hiperparametri modela koje treba isprobati su:\n",
    "\n",
    "* **Regularizacija:** Bez regularizacije ([`LinearRegression`](http://scikit-learn.org/stable/modules/generated/sklearn.linear_model.LinearRegression.html#sklearn.linear_model.LinearRegression)), L2-regularizacija ([`Ridge`](http://scikit-learn.org/stable/modules/generated/sklearn.linear_model.Ridge.html#sklearn.linear_model.Ridge)) i L1-regularizacija ([`Lasso`](http://scikit-learn.org/stable/modules/generated/sklearn.linear_model.Lasso.html#sklearn.linear_model.Lasso));\n",
    "* **Značajke:** Izvornih 13 značajki, polinomijalne značajke (isprobajte različite stupnjeve polinoma $d$), samo interakcijske značajke (opcija `interaction_only` u klasi [`PolynomialFeatures`](http://scikit-learn.org/stable/modules/generated/sklearn.preprocessing.PolynomialFeatures.html));\n",
    "\n",
    "Kao i inače, za odabir i ispitivanje modela koristit ćemo **unakrsnu provjeru** (engl. *cross-validation*). Skup primjera za učenje podijelit ćemo na **skup za učenje**, **skup za provjeru** i **skup za ispitivanje** u omjeru (otprilike) 3:1:1. Kao u uvijek, model trebate trenirati na skupu za učenje, odabir modela (odnosno optimizaciju hiperparametra) trebate provesti na skupu za provjeru, a konačno vrednovanje modela trebate načiniti na skupu za ispitivanje. Konačno vrednovanje radite samo jednom, za model koji ste na skupu za provjeru odabrali kao optimalan.\n",
    "\n",
    "**NB:** Nakon što odaberete optimalan model na skupu za provjeru, prije konačnog ispitivanja odabrani model ponovno trenirajte na uniji skupova za učenje i provjeru. Na taj način iskorištavate maksimalno iskorištavate dostupne podatke i model će u pravilu biti bolji.\n",
    "\n",
    "Podjela na skup za učenje, provjeru i ispitivanje u ovom je slučaju fiksna kako bi svi imali identične skupove i kako bi rezultati bili usporedivi. (U stvarnosti biste ovakav eksperiment radili malo drugačije: koristili biste višestruku unakrsnu provjeru ili ugnježđenu unakrsnu provjeru. Više o tome u budućim vježbama.) \n",
    "\n",
    "Koristite sljedeće skupove:"
   ]
  },
  {
   "cell_type": "code",
   "execution_count": 29,
   "metadata": {
    "collapsed": false
   },
   "outputs": [
    {
     "name": "stdout",
     "output_type": "stream",
     "text": [
      "(303, 13) (101, 13) (102, 13)\n"
     ]
    }
   ],
   "source": [
    "from sklearn import cross_validation\n",
    "X_train, X_rest, y_train, y_rest = cross_validation.train_test_split(boston.data,boston.target,train_size=0.6,random_state=42)\n",
    "X_validate, X_test, y_validate, y_test = cross_validation.train_test_split(X_rest,y_rest,test_size=0.5,random_state=42)\n",
    "print (X_train.shape, X_validate.shape ,X_test.shape)"
   ]
  },
  {
   "cell_type": "code",
   "execution_count": 35,
   "metadata": {
    "collapsed": false
   },
   "outputs": [
    {
     "name": "stdout",
     "output_type": "stream",
     "text": [
      "Train error with linear regression: 24.7904966308\n",
      "Rest error with linear regression: 24.1219662931\n",
      "Train error with ridge regression: 911.299177314\n",
      "Rest error with ridge regression: 917.322232038\n",
      "Train error with lasso regression: 1587.85234698\n",
      "Rest error with lasso regression: 1577.39932378\n"
     ]
    }
   ],
   "source": [
    "#regularizacija, izvorne značajke\n",
    "linear = LinearRegression(fit_intercept=False)\n",
    "linear.fit(X_train, y_train)\n",
    "hx = dot(linear.coef_, transpose(X_train))\n",
    "err_train = sklearn.metrics.mean_squared_error(y_train, transpose(hx))\n",
    "hx = dot(linear.coef_, transpose(X_rest))\n",
    "err_rest = sklearn.metrics.mean_squared_error(y_rest, transpose(hx))\n",
    "\n",
    "print (\"Train error with linear regression: \" + str(err_train))\n",
    "print (\"Rest error with linear regression: \" + str(err_rest))\n",
    "\n",
    "ridge = Ridge(alpha=1.0)\n",
    "ridge.fit(X_train, y_train)\n",
    "hx = dot(ridge.coef_, transpose(X_train))\n",
    "err_train = sklearn.metrics.mean_squared_error(y_train, transpose(hx))\n",
    "hx = dot(ridge.coef_, transpose(X_rest))\n",
    "err_rest = sklearn.metrics.mean_squared_error(y_rest, transpose(hx))\n",
    "\n",
    "print (\"Train error with ridge regression: \" + str(err_train))\n",
    "print (\"Rest error with ridge regression: \" + str(err_rest))\n",
    "\n",
    "lasso = Lasso(alpha=1)\n",
    "lasso.fit(X_train, y_train) \n",
    "hx = dot(lasso.coef_, transpose(X_train))\n",
    "err_train = sklearn.metrics.mean_squared_error(y_train, transpose(hx))\n",
    "hx = dot(lasso.coef_, transpose(X_rest))\n",
    "err_rest = sklearn.metrics.mean_squared_error(y_rest, transpose(hx))\n",
    "\n",
    "print (\"Train error with lasso regression: \" + str(err_train))\n",
    "print (\"Rest error with lasso regression: \" + str(err_rest))\n",
    "\n",
    "        "
   ]
  },
  {
   "cell_type": "markdown",
   "metadata": {},
   "source": [
    "**Q:** Koliko značajki ima svaki od modela koji ste isprobali?\n",
    "\n",
    "**Q:** Provjerite točnost odabranog modela na (1) skupu za učenje, (2) skupu za provjeru, (3) uniji ta dva skupa i (4) skupu za ispitivanje. Jesu li odnosi između točnosti modela na ova četiri skupa očekivana? Obrazložite.\n",
    "\n",
    "**Q:** Kod treniranja regresijskog modela moguće je postaviti `fit_intercept=False`, čime se izbjegava optimiranje težine $w_0$. Trenirajte odabrani model s tom postavkom. Usporedite s točnošću optimalnog modela. Je li rezultat očekivan? Obrazložite. Ima li predobrada značajki ikakvog utjecaja na ovu razliku?"
   ]
  }
 ],
 "metadata": {
  "anaconda-cloud": {},
  "kernelspec": {
   "display_name": "Python [conda root]",
   "language": "python",
   "name": "conda-root-py"
  },
  "language_info": {
   "codemirror_mode": {
    "name": "ipython",
    "version": 3
   },
   "file_extension": ".py",
   "mimetype": "text/x-python",
   "name": "python",
   "nbconvert_exporter": "python",
   "pygments_lexer": "ipython3",
   "version": "3.5.2"
  }
 },
 "nbformat": 4,
 "nbformat_minor": 0
}
